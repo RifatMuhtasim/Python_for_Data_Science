{
  "cells": [
    {
      "cell_type": "code",
      "execution_count": 3,
      "id": "ceec7339-1462-41ee-bccc-900fed514d2d",
      "metadata": {
        "id": "ceec7339-1462-41ee-bccc-900fed514d2d"
      },
      "outputs": [],
      "source": [
        "import numpy as np"
      ]
    },
    {
      "cell_type": "code",
      "execution_count": 4,
      "id": "8e3dbb51-9702-4e27-86ec-4d2b5ec6b97b",
      "metadata": {
        "id": "8e3dbb51-9702-4e27-86ec-4d2b5ec6b97b"
      },
      "outputs": [],
      "source": [
        "a = np.array([1,2,3,4,5])\n",
        "b = np.array([3,4,4,5,7])"
      ]
    },
    {
      "cell_type": "code",
      "execution_count": 5,
      "id": "3465dc87-0cd0-410a-b467-6eb86ea35801",
      "metadata": {
        "colab": {
          "base_uri": "https://localhost:8080/"
        },
        "id": "3465dc87-0cd0-410a-b467-6eb86ea35801",
        "outputId": "335a8a00-9097-4401-9847-47fba7f148b9"
      },
      "outputs": [
        {
          "output_type": "stream",
          "name": "stdout",
          "text": [
            "[1 2 3 4 5]\n",
            "[3 4 4 5 7]\n"
          ]
        }
      ],
      "source": [
        "print(a)\n",
        "print(b)"
      ]
    },
    {
      "cell_type": "code",
      "execution_count": 6,
      "id": "9e9d18b7-a719-42c9-8f81-08a7e058b216",
      "metadata": {
        "colab": {
          "base_uri": "https://localhost:8080/"
        },
        "id": "9e9d18b7-a719-42c9-8f81-08a7e058b216",
        "outputId": "581aed1c-8848-4507-b01d-e1313d0c349e"
      },
      "outputs": [
        {
          "output_type": "execute_result",
          "data": {
            "text/plain": [
              "numpy.ndarray"
            ]
          },
          "metadata": {},
          "execution_count": 6
        }
      ],
      "source": [
        "## Show the type\n",
        "type(a)"
      ]
    },
    {
      "cell_type": "code",
      "execution_count": 7,
      "id": "20954ff4-a296-423c-81f7-b3f396c7b9f8",
      "metadata": {
        "colab": {
          "base_uri": "https://localhost:8080/"
        },
        "id": "20954ff4-a296-423c-81f7-b3f396c7b9f8",
        "outputId": "31b58f2f-8cb3-423b-b299-9b5b495bdf00"
      },
      "outputs": [
        {
          "output_type": "execute_result",
          "data": {
            "text/plain": [
              "2"
            ]
          },
          "metadata": {},
          "execution_count": 7
        }
      ],
      "source": [
        "## Numpy Dimension\n",
        "a1 = np.array([[1,2,3], [4,5,6]])  # 2 Dimensional Array\n",
        "a1.ndim"
      ]
    },
    {
      "cell_type": "code",
      "execution_count": 8,
      "id": "330a7228-2258-4bd9-905a-583ee9ebad14",
      "metadata": {
        "colab": {
          "base_uri": "https://localhost:8080/"
        },
        "id": "330a7228-2258-4bd9-905a-583ee9ebad14",
        "outputId": "324793ee-3a8f-418d-c4b5-722985b9f200"
      },
      "outputs": [
        {
          "output_type": "execute_result",
          "data": {
            "text/plain": [
              "3"
            ]
          },
          "metadata": {},
          "execution_count": 8
        }
      ],
      "source": [
        "a1[0,2]"
      ]
    },
    {
      "cell_type": "code",
      "execution_count": 9,
      "id": "41dc46f8-b3e4-4b0a-a40e-658247922a0a",
      "metadata": {
        "id": "41dc46f8-b3e4-4b0a-a40e-658247922a0a"
      },
      "outputs": [],
      "source": [
        "b1 = np.array([[1,2,3, -1],[2,3,4,4]])"
      ]
    },
    {
      "cell_type": "code",
      "execution_count": 10,
      "id": "a156960a-9db2-4a56-a13c-5111e028dcec",
      "metadata": {
        "colab": {
          "base_uri": "https://localhost:8080/"
        },
        "id": "a156960a-9db2-4a56-a13c-5111e028dcec",
        "outputId": "981be4b5-a909-47bb-cf1b-7fc6adb0fcd7"
      },
      "outputs": [
        {
          "output_type": "execute_result",
          "data": {
            "text/plain": [
              "array([[ 1,  2,  3, -1],\n",
              "       [ 2,  3,  4,  4]])"
            ]
          },
          "metadata": {},
          "execution_count": 10
        }
      ],
      "source": [
        "b1"
      ]
    },
    {
      "cell_type": "code",
      "execution_count": 11,
      "id": "4410b4e1-340a-47b4-b754-b82617f891cc",
      "metadata": {
        "id": "4410b4e1-340a-47b4-b754-b82617f891cc"
      },
      "outputs": [],
      "source": [
        "c = np.array([[[1,2,3],[4,5,6],[7,8,9]], [[-1,-2,-3],[-4,-5,-6],[-7,-8,-9]]])"
      ]
    },
    {
      "cell_type": "code",
      "execution_count": 12,
      "id": "714ef1ea-2fc0-42b9-b260-505ec7ebb8b2",
      "metadata": {
        "colab": {
          "base_uri": "https://localhost:8080/"
        },
        "id": "714ef1ea-2fc0-42b9-b260-505ec7ebb8b2",
        "outputId": "8a51ad4a-b796-47f2-a776-a72f946aacc0"
      },
      "outputs": [
        {
          "output_type": "execute_result",
          "data": {
            "text/plain": [
              "6"
            ]
          },
          "metadata": {},
          "execution_count": 12
        }
      ],
      "source": [
        "c.ndim\n",
        "c[0,1,2]"
      ]
    },
    {
      "cell_type": "code",
      "execution_count": 13,
      "id": "7071f737-85d1-45b2-a874-e95427246649",
      "metadata": {
        "colab": {
          "base_uri": "https://localhost:8080/"
        },
        "id": "7071f737-85d1-45b2-a874-e95427246649",
        "outputId": "7861b43c-f044-473e-cc38-555567ed3c40"
      },
      "outputs": [
        {
          "output_type": "execute_result",
          "data": {
            "text/plain": [
              "(2, 3, 3)"
            ]
          },
          "metadata": {},
          "execution_count": 13
        }
      ],
      "source": [
        "## Shape\n",
        "c.shape"
      ]
    },
    {
      "cell_type": "code",
      "execution_count": 15,
      "id": "1652b727-0126-4cd9-a6d4-4bed42e8d0fc",
      "metadata": {
        "colab": {
          "base_uri": "https://localhost:8080/"
        },
        "id": "1652b727-0126-4cd9-a6d4-4bed42e8d0fc",
        "outputId": "a44f7809-3bab-4950-80d4-5438f9689449"
      },
      "outputs": [
        {
          "output_type": "execute_result",
          "data": {
            "text/plain": [
              "18"
            ]
          },
          "metadata": {},
          "execution_count": 15
        }
      ],
      "source": [
        "## Output the total number of array\n",
        "c.size"
      ]
    },
    {
      "cell_type": "code",
      "source": [
        "print(\"Hello World\")"
      ],
      "metadata": {
        "colab": {
          "base_uri": "https://localhost:8080/"
        },
        "id": "szlpBqMbuv1f",
        "outputId": "f09cd63c-e2d1-4142-df9b-9d2aea882483"
      },
      "id": "szlpBqMbuv1f",
      "execution_count": 16,
      "outputs": [
        {
          "output_type": "stream",
          "name": "stdout",
          "text": [
            "Hello World\n"
          ]
        }
      ]
    }
  ],
  "metadata": {
    "kernelspec": {
      "display_name": "Python 3 (ipykernel)",
      "language": "python",
      "name": "python3"
    },
    "language_info": {
      "codemirror_mode": {
        "name": "ipython",
        "version": 3
      },
      "file_extension": ".py",
      "mimetype": "text/x-python",
      "name": "python",
      "nbconvert_exporter": "python",
      "pygments_lexer": "ipython3",
      "version": "3.11.2"
    },
    "colab": {
      "provenance": []
    }
  },
  "nbformat": 4,
  "nbformat_minor": 5
}