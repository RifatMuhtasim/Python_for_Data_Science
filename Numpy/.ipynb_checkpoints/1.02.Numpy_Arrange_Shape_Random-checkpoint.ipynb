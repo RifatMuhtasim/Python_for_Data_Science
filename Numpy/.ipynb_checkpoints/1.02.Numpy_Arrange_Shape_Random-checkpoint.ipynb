{
 "cells": [
  {
   "cell_type": "code",
   "execution_count": null,
   "id": "1bfaffb1-39e2-4f4f-b1e8-801c57fcc066",
   "metadata": {},
   "outputs": [],
   "source": [
    "'''\n",
    "np.arrange\n",
    "np.random.permutation\n",
    "np.reshape\n",
    "'''"
   ]
  },
  {
   "cell_type": "code",
   "execution_count": 37,
   "id": "d4062bb9-76f8-4c4e-92c1-8a6747588af6",
   "metadata": {},
   "outputs": [],
   "source": [
    "import numpy as np\n",
    "import matplotlib.pyplot as plt"
   ]
  },
  {
   "cell_type": "code",
   "execution_count": 12,
   "id": "b6bcc2b5-8760-4333-b0dd-14e45d3475e3",
   "metadata": {},
   "outputs": [
    {
     "data": {
      "text/plain": [
       "array([ 0,  5, 10, 15, 20, 25, 30, 35, 40, 45, 50, 55, 60, 65, 70, 75, 80,\n",
       "       85, 90, 95])"
      ]
     },
     "execution_count": 12,
     "metadata": {},
     "output_type": "execute_result"
    }
   ],
   "source": [
    "# arange\n",
    "a = np.arange(0, 100, 5) # looks like: for i in range(0,100,5)\n",
    "a"
   ]
  },
  {
   "cell_type": "code",
   "execution_count": 14,
   "id": "33d16d52-a812-418b-977f-424fd3b906fe",
   "metadata": {},
   "outputs": [
    {
     "name": "stdout",
     "output_type": "stream",
     "text": [
      "range(0, 10)\n",
      "[0, 1, 2, 3, 4, 5, 6, 7, 8, 9]\n"
     ]
    }
   ],
   "source": [
    "# range\n",
    "print(range(10))\n",
    "print(list(range(10)))"
   ]
  },
  {
   "cell_type": "code",
   "execution_count": 29,
   "id": "3dda48ba-119d-4a55-8b98-4dfeda1ad11d",
   "metadata": {},
   "outputs": [
    {
     "name": "stdout",
     "output_type": "stream",
     "text": [
      "[11 12 14 13 10]\n"
     ]
    }
   ],
   "source": [
    "## Random Number \n",
    "b = np.random.permutation(np.arange(10, 15))\n",
    "print(b)"
   ]
  },
  {
   "cell_type": "code",
   "execution_count": 28,
   "id": "cf16c707-d05c-4315-a018-b73c07fb854f",
   "metadata": {},
   "outputs": [
    {
     "data": {
      "text/plain": [
       "12"
      ]
     },
     "execution_count": 28,
     "metadata": {},
     "output_type": "execute_result"
    }
   ],
   "source": [
    "c = np.random.randint(10,15)\n",
    "c"
   ]
  },
  {
   "cell_type": "code",
   "execution_count": 46,
   "id": "4cd2b2d4-5dbd-40e9-bc79-3d63a082329d",
   "metadata": {},
   "outputs": [
    {
     "data": {
      "text/plain": [
       "(array([ 83., 103.,  97.,  95., 112., 109.,  89., 111.,  92., 109.]),\n",
       " array([1.69705652e-04, 1.00042630e-01, 1.99915555e-01, 2.99788480e-01,\n",
       "        3.99661405e-01, 4.99534330e-01, 5.99407255e-01, 6.99280180e-01,\n",
       "        7.99153104e-01, 8.99026029e-01, 9.98898954e-01]),\n",
       " <BarContainer object of 10 artists>)"
      ]
     },
     "execution_count": 46,
     "metadata": {},
     "output_type": "execute_result"
    },
    {
     "data": {
      "image/png": "[encoded data removed]",
      "text/plain": [
       "<Figure size 640x480 with 1 Axes>"
      ]
     },
     "metadata": {},
     "output_type": "display_data"
    }
   ],
   "source": [
    "d = np.random.rand(1000) ## Represent the Uniform Distribution\n",
    "d\n",
    "plt.hist(d, bins=10)"
   ]
  },
  {
   "cell_type": "code",
   "execution_count": 49,
   "id": "1bc85378-920f-4728-9745-f52dd7f1faaf",
   "metadata": {},
   "outputs": [
    {
     "data": {
      "text/plain": [
       "(array([ 1.,  0.,  1.,  0.,  0.,  0.,  0.,  0.,  0.,  1.,  2.,  0.,  5.,\n",
       "         2.,  2.,  3.,  0.,  5.,  3.,  5.,  6.,  6.,  9.,  7.,  9.,  9.,\n",
       "         8.,  8., 14., 10., 12.,  9., 23., 17., 25., 20., 22., 23., 16.,\n",
       "        32., 28., 24., 36., 24., 17., 30., 19., 34., 35., 25., 32., 25.,\n",
       "        33., 19., 39., 29., 19., 18., 25., 17., 17., 17., 15., 16., 11.,\n",
       "        13.,  7.,  9.,  8.,  7.,  7.,  5.,  3.,  4.,  2.,  4.,  3.,  2.,\n",
       "         1.,  0.,  1.,  0.,  0.,  0.,  1.,  1.,  2.,  0.,  0.,  0.,  0.,\n",
       "         0.,  0.,  0.,  0.,  0.,  0.,  0.,  0.,  1.]),\n",
       " array([-3.3574404 , -3.28537285, -3.2133053 , -3.14123775, -3.06917019,\n",
       "        -2.99710264, -2.92503509, -2.85296753, -2.78089998, -2.70883243,\n",
       "        -2.63676487, -2.56469732, -2.49262977, -2.42056221, -2.34849466,\n",
       "        -2.27642711, -2.20435955, -2.132292  , -2.06022445, -1.98815689,\n",
       "        -1.91608934, -1.84402179, -1.77195423, -1.69988668, -1.62781913,\n",
       "        -1.55575157, -1.48368402, -1.41161647, -1.33954892, -1.26748136,\n",
       "        -1.19541381, -1.12334626, -1.0512787 , -0.97921115, -0.9071436 ,\n",
       "        -0.83507604, -0.76300849, -0.69094094, -0.61887338, -0.54680583,\n",
       "        -0.47473828, -0.40267072, -0.33060317, -0.25853562, -0.18646806,\n",
       "        -0.11440051, -0.04233296,  0.0297346 ,  0.10180215,  0.1738697 ,\n",
       "         0.24593726,  0.31800481,  0.39007236,  0.46213991,  0.53420747,\n",
       "         0.60627502,  0.67834257,  0.75041013,  0.82247768,  0.89454523,\n",
       "         0.96661279,  1.03868034,  1.11074789,  1.18281545,  1.254883  ,\n",
       "         1.32695055,  1.39901811,  1.47108566,  1.54315321,  1.61522077,\n",
       "         1.68728832,  1.75935587,  1.83142343,  1.90349098,  1.97555853,\n",
       "         2.04762609,  2.11969364,  2.19176119,  2.26382874,  2.3358963 ,\n",
       "         2.40796385,  2.4800314 ,  2.55209896,  2.62416651,  2.69623406,\n",
       "         2.76830162,  2.84036917,  2.91243672,  2.98450428,  3.05657183,\n",
       "         3.12863938,  3.20070694,  3.27277449,  3.34484204,  3.4169096 ,\n",
       "         3.48897715,  3.5610447 ,  3.63311226,  3.70517981,  3.77724736,\n",
       "         3.84931492]),\n",
       " <BarContainer object of 100 artists>)"
      ]
     },
     "execution_count": 49,
     "metadata": {},
     "output_type": "execute_result"
    },
    {
     "data": {
      "image/png": "[encoded data removed]",
      "text/plain": [
       "<Figure size 640x480 with 1 Axes>"
      ]
     },
     "metadata": {},
     "output_type": "display_data"
    }
   ],
   "source": [
    "e = np.random.randn(1000) ## Represent the Normal Distribution\n",
    "e\n",
    "plt.hist(e, bins=100)"
   ]
  },
  {
   "cell_type": "code",
   "execution_count": 51,
   "id": "33d002da-04a2-4eb0-9f60-0e26181c583f",
   "metadata": {},
   "outputs": [
    {
     "data": {
      "text/plain": [
       "array([[0.19013616, 0.90029926, 0.00804755],\n",
       "       [0.83116709, 0.44046996, 0.18041736]])"
      ]
     },
     "execution_count": 51,
     "metadata": {},
     "output_type": "execute_result"
    }
   ],
   "source": [
    "## Matrix\n",
    "f = np.random.rand(2,3)\n",
    "f"
   ]
  },
  {
   "cell_type": "code",
   "execution_count": 54,
   "id": "94b904b9-cffc-4659-b3ac-886d673ca15a",
   "metadata": {},
   "outputs": [
    {
     "data": {
      "text/plain": [
       "array([[[[0.67497584, 0.94133854],\n",
       "         [0.49825227, 0.64985377],\n",
       "         [0.18671134, 0.13010881],\n",
       "         [0.76616668, 0.998806  ]],\n",
       "\n",
       "        [[0.07305954, 0.06954213],\n",
       "         [0.31056146, 0.96098781],\n",
       "         [0.05162969, 0.26528355],\n",
       "         [0.30015986, 0.05818506]],\n",
       "\n",
       "        [[0.86298305, 0.4785086 ],\n",
       "         [0.83955925, 0.04667059],\n",
       "         [0.52102308, 0.79222535],\n",
       "         [0.07226767, 0.07290005]]],\n",
       "\n",
       "\n",
       "       [[[0.19602106, 0.75769651],\n",
       "         [0.8333226 , 0.39661437],\n",
       "         [0.98451563, 0.10372449],\n",
       "         [0.62226108, 0.12910432]],\n",
       "\n",
       "        [[0.91563479, 0.56429488],\n",
       "         [0.3572522 , 0.11432792],\n",
       "         [0.10544516, 0.29690348],\n",
       "         [0.44729319, 0.51619609]],\n",
       "\n",
       "        [[0.36229175, 0.9539242 ],\n",
       "         [0.99440144, 0.86708077],\n",
       "         [0.15985704, 0.30491744],\n",
       "         [0.99645895, 0.35252397]]]])"
      ]
     },
     "execution_count": 54,
     "metadata": {},
     "output_type": "execute_result"
    }
   ],
   "source": [
    "g = np.random.rand(2,3,4,2) \n",
    "g"
   ]
  },
  {
   "cell_type": "code",
   "execution_count": 58,
   "id": "ba45bc8f-c3bc-4552-a0dd-102fb5e313b0",
   "metadata": {},
   "outputs": [
    {
     "data": {
      "text/plain": [
       "array([[ 0,  1,  2,  3,  4,  5,  6,  7,  8,  9, 10, 11, 12, 13, 14, 15,\n",
       "        16, 17, 18, 19, 20, 21, 22, 23, 24],\n",
       "       [25, 26, 27, 28, 29, 30, 31, 32, 33, 34, 35, 36, 37, 38, 39, 40,\n",
       "        41, 42, 43, 44, 45, 46, 47, 48, 49],\n",
       "       [50, 51, 52, 53, 54, 55, 56, 57, 58, 59, 60, 61, 62, 63, 64, 65,\n",
       "        66, 67, 68, 69, 70, 71, 72, 73, 74],\n",
       "       [75, 76, 77, 78, 79, 80, 81, 82, 83, 84, 85, 86, 87, 88, 89, 90,\n",
       "        91, 92, 93, 94, 95, 96, 97, 98, 99]])"
      ]
     },
     "execution_count": 58,
     "metadata": {},
     "output_type": "execute_result"
    }
   ],
   "source": [
    "## Using Reshape\n",
    "\n",
    "h = np.arange(100).reshape(4,25)\n",
    "h"
   ]
  },
  {
   "cell_type": "code",
   "execution_count": null,
   "id": "78539106-1f73-454a-a8dc-59a446642025",
   "metadata": {},
   "outputs": [],
   "source": []
  }
 ],
 "metadata": {
  "kernelspec": {
   "display_name": "Python 3 (ipykernel)",
   "language": "python",
   "name": "python3"
  },
  "language_info": {
   "codemirror_mode": {
    "name": "ipython",
    "version": 3
   },
   "file_extension": ".py",
   "mimetype": "text/x-python",
   "name": "python",
   "nbconvert_exporter": "python",
   "pygments_lexer": "ipython3",
   "version": "3.11.2"
  }
 },
 "nbformat": 4,
 "nbformat_minor": 5
}
