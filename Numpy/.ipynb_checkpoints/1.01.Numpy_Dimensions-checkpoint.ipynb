{
 "cells": [
  {
   "cell_type": "code",
   "execution_count": 2,
   "id": "ceec7339-1462-41ee-bccc-900fed514d2d",
   "metadata": {},
   "outputs": [],
   "source": [
    "import numpy as np"
   ]
  },
  {
   "cell_type": "code",
   "execution_count": 3,
   "id": "8e3dbb51-9702-4e27-86ec-4d2b5ec6b97b",
   "metadata": {},
   "outputs": [],
   "source": [
    "a = np.array([1,2,3,4,5])\n",
    "b = np.array([3,4,4,5,7])"
   ]
  },
  {
   "cell_type": "code",
   "execution_count": 5,
   "id": "3465dc87-0cd0-410a-b467-6eb86ea35801",
   "metadata": {},
   "outputs": [
    {
     "name": "stdout",
     "output_type": "stream",
     "text": [
      "[1 2 3 4 5]\n",
      "[3 4 4 5 7]\n"
     ]
    }
   ],
   "source": [
    "print(a)\n",
    "print(b)"
   ]
  },
  {
   "cell_type": "code",
   "execution_count": 6,
   "id": "9e9d18b7-a719-42c9-8f81-08a7e058b216",
   "metadata": {},
   "outputs": [
    {
     "data": {
      "text/plain": [
       "numpy.ndarray"
      ]
     },
     "execution_count": 6,
     "metadata": {},
     "output_type": "execute_result"
    }
   ],
   "source": [
    "## Show the type \n",
    "type(a)"
   ]
  },
  {
   "cell_type": "code",
   "execution_count": 37,
   "id": "20954ff4-a296-423c-81f7-b3f396c7b9f8",
   "metadata": {},
   "outputs": [
    {
     "data": {
      "text/plain": [
       "2"
      ]
     },
     "execution_count": 37,
     "metadata": {},
     "output_type": "execute_result"
    }
   ],
   "source": [
    "## Numpy Dimension\n",
    "a1 = np.array([[1,2,3], [4,5,6]])  # 2 Dimensional Array\n",
    "a1.ndim"
   ]
  },
  {
   "cell_type": "code",
   "execution_count": 38,
   "id": "330a7228-2258-4bd9-905a-583ee9ebad14",
   "metadata": {},
   "outputs": [
    {
     "data": {
      "text/plain": [
       "3"
      ]
     },
     "execution_count": 38,
     "metadata": {},
     "output_type": "execute_result"
    }
   ],
   "source": [
    "a1[0,2]"
   ]
  },
  {
   "cell_type": "code",
   "execution_count": 39,
   "id": "41dc46f8-b3e4-4b0a-a40e-658247922a0a",
   "metadata": {},
   "outputs": [],
   "source": [
    "b1 = np.array([[1,2,3, -1],[2,3,4,4]])"
   ]
  },
  {
   "cell_type": "code",
   "execution_count": 40,
   "id": "a156960a-9db2-4a56-a13c-5111e028dcec",
   "metadata": {},
   "outputs": [
    {
     "data": {
      "text/plain": [
       "array([[ 1,  2,  3, -1],\n",
       "       [ 2,  3,  4,  4]])"
      ]
     },
     "execution_count": 40,
     "metadata": {},
     "output_type": "execute_result"
    }
   ],
   "source": [
    "b1"
   ]
  },
  {
   "cell_type": "code",
   "execution_count": 41,
   "id": "4410b4e1-340a-47b4-b754-b82617f891cc",
   "metadata": {},
   "outputs": [],
   "source": [
    "c = np.array([[[1,2,3],[4,5,6],[7,8,9]], [[-1,-2,-3],[-4,-5,-6],[-7,-8,-9]]])"
   ]
  },
  {
   "cell_type": "code",
   "execution_count": 42,
   "id": "714ef1ea-2fc0-42b9-b260-505ec7ebb8b2",
   "metadata": {},
   "outputs": [
    {
     "data": {
      "text/plain": [
       "6"
      ]
     },
     "execution_count": 42,
     "metadata": {},
     "output_type": "execute_result"
    }
   ],
   "source": [
    "c.ndim\n",
    "c[0,1,2]"
   ]
  },
  {
   "cell_type": "code",
   "execution_count": 45,
   "id": "7071f737-85d1-45b2-a874-e95427246649",
   "metadata": {},
   "outputs": [
    {
     "data": {
      "text/plain": [
       "(2, 3, 3)"
      ]
     },
     "execution_count": 45,
     "metadata": {},
     "output_type": "execute_result"
    }
   ],
   "source": [
    "## Shape\n",
    "c.shape"
   ]
  },
  {
   "cell_type": "code",
   "execution_count": 46,
   "id": "1652b727-0126-4cd9-a6d4-4bed42e8d0fc",
   "metadata": {},
   "outputs": [
    {
     "data": {
      "text/plain": [
       "18"
      ]
     },
     "execution_count": 46,
     "metadata": {},
     "output_type": "execute_result"
    }
   ],
   "source": [
    "## Output the total number of array\n",
    "c.size"
   ]
  },
  {
   "cell_type": "code",
   "execution_count": null,
   "id": "423eda9c-cf88-4369-aa14-f4a7e3c5d1fc",
   "metadata": {},
   "outputs": [],
   "source": []
  },
  {
   "cell_type": "code",
   "execution_count": null,
   "id": "ce7501fa-2a5f-4407-944c-9b861cc3e6aa",
   "metadata": {},
   "outputs": [],
   "source": []
  },
  {
   "cell_type": "code",
   "execution_count": null,
   "id": "a379b5d7-1a1c-499d-a867-b9204b83104c",
   "metadata": {},
   "outputs": [],
   "source": []
  },
  {
   "cell_type": "code",
   "execution_count": null,
   "id": "afa1fa69-7975-4af1-a5a8-5991b7a357ce",
   "metadata": {},
   "outputs": [],
   "source": []
  }
 ],
 "metadata": {
  "kernelspec": {
   "display_name": "Python 3 (ipykernel)",
   "language": "python",
   "name": "python3"
  },
  "language_info": {
   "codemirror_mode": {
    "name": "ipython",
    "version": 3
   },
   "file_extension": ".py",
   "mimetype": "text/x-python",
   "name": "python",
   "nbconvert_exporter": "python",
   "pygments_lexer": "ipython3",
   "version": "3.11.2"
  }
 },
 "nbformat": 4,
 "nbformat_minor": 5
}
