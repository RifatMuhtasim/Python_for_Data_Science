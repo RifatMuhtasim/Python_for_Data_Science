{
  "cells": [
    {
      "cell_type": "code",
      "execution_count": null,
      "id": "ceec7339-1462-41ee-bccc-900fed514d2d",
      "metadata": {
        "id": "ceec7339-1462-41ee-bccc-900fed514d2d"
      },
      "outputs": [],
      "source": [
        "import numpy as np"
      ]
    },
    {
      "cell_type": "code",
      "execution_count": null,
      "id": "8e3dbb51-9702-4e27-86ec-4d2b5ec6b97b",
      "metadata": {
        "id": "8e3dbb51-9702-4e27-86ec-4d2b5ec6b97b"
      },
      "outputs": [],
      "source": [
        "a = np.array([1,2,3,4,5])\n",
        "b = np.array([3,4,4,5,7])"
      ]
    },
    {
      "cell_type": "code",
      "execution_count": null,
      "id": "3465dc87-0cd0-410a-b467-6eb86ea35801",
      "metadata": {
        "id": "3465dc87-0cd0-410a-b467-6eb86ea35801",
        "outputId": "79334f64-5bb9-494e-ac10-296aa3ab1b0c"
      },
      "outputs": [
        {
          "name": "stdout",
          "output_type": "stream",
          "text": [
            "[1 2 3 4 5]\n",
            "[3 4 4 5 7]\n"
          ]
        }
      ],
      "source": [
        "print(a)\n",
        "print(b)"
      ]
    },
    {
      "cell_type": "code",
      "execution_count": null,
      "id": "9e9d18b7-a719-42c9-8f81-08a7e058b216",
      "metadata": {
        "id": "9e9d18b7-a719-42c9-8f81-08a7e058b216",
        "outputId": "71d4657a-bfd6-4cef-bfcf-d99995645d36"
      },
      "outputs": [
        {
          "data": {
            "text/plain": [
              "numpy.ndarray"
            ]
          },
          "execution_count": 6,
          "metadata": {},
          "output_type": "execute_result"
        }
      ],
      "source": [
        "## Show the type\n",
        "type(a)"
      ]
    },
    {
      "cell_type": "code",
      "execution_count": null,
      "id": "20954ff4-a296-423c-81f7-b3f396c7b9f8",
      "metadata": {
        "id": "20954ff4-a296-423c-81f7-b3f396c7b9f8",
        "outputId": "c9f51819-f2b7-4244-d75d-9b6399fb0350"
      },
      "outputs": [
        {
          "data": {
            "text/plain": [
              "2"
            ]
          },
          "execution_count": 37,
          "metadata": {},
          "output_type": "execute_result"
        }
      ],
      "source": [
        "## Numpy Dimension\n",
        "a1 = np.array([[1,2,3], [4,5,6]])  # 2 Dimensional Array\n",
        "a1.ndim"
      ]
    },
    {
      "cell_type": "code",
      "execution_count": null,
      "id": "330a7228-2258-4bd9-905a-583ee9ebad14",
      "metadata": {
        "id": "330a7228-2258-4bd9-905a-583ee9ebad14",
        "outputId": "090d1421-4df1-4a1c-9b55-83f1728002b1"
      },
      "outputs": [
        {
          "data": {
            "text/plain": [
              "3"
            ]
          },
          "execution_count": 38,
          "metadata": {},
          "output_type": "execute_result"
        }
      ],
      "source": [
        "a1[0,2]"
      ]
    },
    {
      "cell_type": "code",
      "execution_count": null,
      "id": "41dc46f8-b3e4-4b0a-a40e-658247922a0a",
      "metadata": {
        "id": "41dc46f8-b3e4-4b0a-a40e-658247922a0a"
      },
      "outputs": [],
      "source": [
        "b1 = np.array([[1,2,3, -1],[2,3,4,4]])"
      ]
    },
    {
      "cell_type": "code",
      "execution_count": null,
      "id": "a156960a-9db2-4a56-a13c-5111e028dcec",
      "metadata": {
        "id": "a156960a-9db2-4a56-a13c-5111e028dcec",
        "outputId": "bed0ece7-43d6-45d4-9669-ce2b7f7cbec1"
      },
      "outputs": [
        {
          "data": {
            "text/plain": [
              "array([[ 1,  2,  3, -1],\n",
              "       [ 2,  3,  4,  4]])"
            ]
          },
          "execution_count": 40,
          "metadata": {},
          "output_type": "execute_result"
        }
      ],
      "source": [
        "b1"
      ]
    },
    {
      "cell_type": "code",
      "execution_count": null,
      "id": "4410b4e1-340a-47b4-b754-b82617f891cc",
      "metadata": {
        "id": "4410b4e1-340a-47b4-b754-b82617f891cc"
      },
      "outputs": [],
      "source": [
        "c = np.array([[[1,2,3],[4,5,6],[7,8,9]], [[-1,-2,-3],[-4,-5,-6],[-7,-8,-9]]])"
      ]
    },
    {
      "cell_type": "code",
      "execution_count": null,
      "id": "714ef1ea-2fc0-42b9-b260-505ec7ebb8b2",
      "metadata": {
        "id": "714ef1ea-2fc0-42b9-b260-505ec7ebb8b2",
        "outputId": "41a0690c-9178-4658-f209-8e193e838f43"
      },
      "outputs": [
        {
          "data": {
            "text/plain": [
              "6"
            ]
          },
          "execution_count": 42,
          "metadata": {},
          "output_type": "execute_result"
        }
      ],
      "source": [
        "c.ndim\n",
        "c[0,1,2]"
      ]
    },
    {
      "cell_type": "code",
      "execution_count": null,
      "id": "7071f737-85d1-45b2-a874-e95427246649",
      "metadata": {
        "id": "7071f737-85d1-45b2-a874-e95427246649",
        "outputId": "6cc9d25b-b8c1-4a54-f493-226c05827c1a"
      },
      "outputs": [
        {
          "data": {
            "text/plain": [
              "(2, 3, 3)"
            ]
          },
          "execution_count": 45,
          "metadata": {},
          "output_type": "execute_result"
        }
      ],
      "source": [
        "## Shape\n",
        "c.shape"
      ]
    },
    {
      "cell_type": "code",
      "execution_count": null,
      "id": "1652b727-0126-4cd9-a6d4-4bed42e8d0fc",
      "metadata": {
        "id": "1652b727-0126-4cd9-a6d4-4bed42e8d0fc",
        "outputId": "8e61fe3b-5949-499c-ebcb-a5171cad9ab3"
      },
      "outputs": [
        {
          "data": {
            "text/plain": [
              "18"
            ]
          },
          "execution_count": 46,
          "metadata": {},
          "output_type": "execute_result"
        }
      ],
      "source": [
        "## Output the total number of array\n",
        "c.size"
      ]
    }
  ],
  "metadata": {
    "kernelspec": {
      "display_name": "Python 3 (ipykernel)",
      "language": "python",
      "name": "python3"
    },
    "language_info": {
      "codemirror_mode": {
        "name": "ipython",
        "version": 3
      },
      "file_extension": ".py",
      "mimetype": "text/x-python",
      "name": "python",
      "nbconvert_exporter": "python",
      "pygments_lexer": "ipython3",
      "version": "3.11.2"
    },
    "colab": {
      "provenance": []
    }
  },
  "nbformat": 4,
  "nbformat_minor": 5
}