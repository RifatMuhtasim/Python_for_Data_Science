{
 "cells": [
  {
   "cell_type": "code",
   "execution_count": 29,
   "id": "19d2ee8b-35c7-4bda-8a9f-2538b4f42d71",
   "metadata": {},
   "outputs": [],
   "source": [
    "import pandas as pd\n",
    "import numpy as np"
   ]
  },
  {
   "cell_type": "code",
   "execution_count": 30,
   "id": "a8ce5c29-f19c-4ccc-b0f4-15b5c7189dce",
   "metadata": {},
   "outputs": [],
   "source": [
    "people = {\n",
    "    \"first\": [\"Rifat\", \"Masum\", \"Sayem\", 'Chris', np.nan, None, 'NA'], \n",
    "    \"last\": [\"Muhtasim\", \"Abdullah\", \"Ahmed\", 'Schafer', np.nan, np.nan, 'Missing'], \n",
    "    \"email\": [\"rifatmuhtasim@tavlav.com\", \"abdullah_masum@gmail.com\", \"sayem_ahmed@email.com\", None, np.nan, 'Anonymous@email.com', \"NA\"],\n",
    "    'age': ['33', '55', '63', '36', None, None, 'Missing']\n",
    "}\n"
   ]
  },
  {
   "cell_type": "code",
   "execution_count": 31,
   "id": "691d33c8-10a2-49d5-aebc-2f331ef83133",
   "metadata": {},
   "outputs": [
    {
     "data": {
      "text/html": [
       "<div>\n",
       "<style scoped>\n",
       "    .dataframe tbody tr th:only-of-type {\n",
       "        vertical-align: middle;\n",
       "    }\n",
       "\n",
       "    .dataframe tbody tr th {\n",
       "        vertical-align: top;\n",
       "    }\n",
       "\n",
       "    .dataframe thead th {\n",
       "        text-align: right;\n",
       "    }\n",
       "</style>\n",
       "<table border=\"1\" class=\"dataframe\">\n",
       "  <thead>\n",
       "    <tr style=\"text-align: right;\">\n",
       "      <th></th>\n",
       "      <th>first</th>\n",
       "      <th>last</th>\n",
       "      <th>email</th>\n",
       "      <th>age</th>\n",
       "    </tr>\n",
       "  </thead>\n",
       "  <tbody>\n",
       "    <tr>\n",
       "      <th>0</th>\n",
       "      <td>Rifat</td>\n",
       "      <td>Muhtasim</td>\n",
       "      <td>rifatmuhtasim@tavlav.com</td>\n",
       "      <td>33</td>\n",
       "    </tr>\n",
       "    <tr>\n",
       "      <th>1</th>\n",
       "      <td>Masum</td>\n",
       "      <td>Abdullah</td>\n",
       "      <td>abdullah_masum@gmail.com</td>\n",
       "      <td>55</td>\n",
       "    </tr>\n",
       "    <tr>\n",
       "      <th>2</th>\n",
       "      <td>Sayem</td>\n",
       "      <td>Ahmed</td>\n",
       "      <td>sayem_ahmed@email.com</td>\n",
       "      <td>63</td>\n",
       "    </tr>\n",
       "    <tr>\n",
       "      <th>3</th>\n",
       "      <td>Chris</td>\n",
       "      <td>Schafer</td>\n",
       "      <td>None</td>\n",
       "      <td>36</td>\n",
       "    </tr>\n",
       "    <tr>\n",
       "      <th>4</th>\n",
       "      <td>NaN</td>\n",
       "      <td>NaN</td>\n",
       "      <td>NaN</td>\n",
       "      <td>None</td>\n",
       "    </tr>\n",
       "    <tr>\n",
       "      <th>5</th>\n",
       "      <td>None</td>\n",
       "      <td>NaN</td>\n",
       "      <td>Anonymous@email.com</td>\n",
       "      <td>None</td>\n",
       "    </tr>\n",
       "    <tr>\n",
       "      <th>6</th>\n",
       "      <td>NaN</td>\n",
       "      <td>NaN</td>\n",
       "      <td>NaN</td>\n",
       "      <td>NaN</td>\n",
       "    </tr>\n",
       "  </tbody>\n",
       "</table>\n",
       "</div>"
      ],
      "text/plain": [
       "   first      last                     email   age\n",
       "0  Rifat  Muhtasim  rifatmuhtasim@tavlav.com    33\n",
       "1  Masum  Abdullah  abdullah_masum@gmail.com    55\n",
       "2  Sayem     Ahmed     sayem_ahmed@email.com    63\n",
       "3  Chris   Schafer                      None    36\n",
       "4    NaN       NaN                       NaN  None\n",
       "5   None       NaN       Anonymous@email.com  None\n",
       "6    NaN       NaN                       NaN   NaN"
      ]
     },
     "execution_count": 31,
     "metadata": {},
     "output_type": "execute_result"
    }
   ],
   "source": [
    "df_people = pd.DataFrame(people)\n",
    "\n",
    "df_people.replace(\"NA\", np.nan, inplace=True)\n",
    "df_people.replace(\"Missing\", np.nan, inplace=True)\n",
    "\n",
    "df_people"
   ]
  },
  {
   "cell_type": "code",
   "execution_count": 32,
   "id": "17d19ecc-bbec-45cf-8bb8-322e787f629c",
   "metadata": {},
   "outputs": [
    {
     "data": {
      "text/html": [
       "<div>\n",
       "<style scoped>\n",
       "    .dataframe tbody tr th:only-of-type {\n",
       "        vertical-align: middle;\n",
       "    }\n",
       "\n",
       "    .dataframe tbody tr th {\n",
       "        vertical-align: top;\n",
       "    }\n",
       "\n",
       "    .dataframe thead th {\n",
       "        text-align: right;\n",
       "    }\n",
       "</style>\n",
       "<table border=\"1\" class=\"dataframe\">\n",
       "  <thead>\n",
       "    <tr style=\"text-align: right;\">\n",
       "      <th></th>\n",
       "      <th>first</th>\n",
       "      <th>last</th>\n",
       "      <th>email</th>\n",
       "      <th>age</th>\n",
       "    </tr>\n",
       "  </thead>\n",
       "  <tbody>\n",
       "    <tr>\n",
       "      <th>0</th>\n",
       "      <td>Rifat</td>\n",
       "      <td>Muhtasim</td>\n",
       "      <td>rifatmuhtasim@tavlav.com</td>\n",
       "      <td>33</td>\n",
       "    </tr>\n",
       "    <tr>\n",
       "      <th>1</th>\n",
       "      <td>Masum</td>\n",
       "      <td>Abdullah</td>\n",
       "      <td>abdullah_masum@gmail.com</td>\n",
       "      <td>55</td>\n",
       "    </tr>\n",
       "    <tr>\n",
       "      <th>2</th>\n",
       "      <td>Sayem</td>\n",
       "      <td>Ahmed</td>\n",
       "      <td>sayem_ahmed@email.com</td>\n",
       "      <td>63</td>\n",
       "    </tr>\n",
       "    <tr>\n",
       "      <th>5</th>\n",
       "      <td>None</td>\n",
       "      <td>NaN</td>\n",
       "      <td>Anonymous@email.com</td>\n",
       "      <td>None</td>\n",
       "    </tr>\n",
       "  </tbody>\n",
       "</table>\n",
       "</div>"
      ],
      "text/plain": [
       "   first      last                     email   age\n",
       "0  Rifat  Muhtasim  rifatmuhtasim@tavlav.com    33\n",
       "1  Masum  Abdullah  abdullah_masum@gmail.com    55\n",
       "2  Sayem     Ahmed     sayem_ahmed@email.com    63\n",
       "5   None       NaN       Anonymous@email.com  None"
      ]
     },
     "execution_count": 32,
     "metadata": {},
     "output_type": "execute_result"
    }
   ],
   "source": [
    "## Remove Rows that have missing value\n",
    "df_people.dropna()\n",
    "\n",
    "## Drop the Row if there are no email address\n",
    "df_people.dropna(axis=\"index\", how=\"all\", subset=[\"email\"])\n"
   ]
  },
  {
   "cell_type": "code",
   "execution_count": 33,
   "id": "eb555f89-ce15-49ed-a51e-eb74cc1dad96",
   "metadata": {},
   "outputs": [
    {
     "data": {
      "text/html": [
       "<div>\n",
       "<style scoped>\n",
       "    .dataframe tbody tr th:only-of-type {\n",
       "        vertical-align: middle;\n",
       "    }\n",
       "\n",
       "    .dataframe tbody tr th {\n",
       "        vertical-align: top;\n",
       "    }\n",
       "\n",
       "    .dataframe thead th {\n",
       "        text-align: right;\n",
       "    }\n",
       "</style>\n",
       "<table border=\"1\" class=\"dataframe\">\n",
       "  <thead>\n",
       "    <tr style=\"text-align: right;\">\n",
       "      <th></th>\n",
       "      <th>first</th>\n",
       "      <th>last</th>\n",
       "      <th>email</th>\n",
       "      <th>age</th>\n",
       "    </tr>\n",
       "  </thead>\n",
       "  <tbody>\n",
       "    <tr>\n",
       "      <th>0</th>\n",
       "      <td>Rifat</td>\n",
       "      <td>Muhtasim</td>\n",
       "      <td>rifatmuhtasim@tavlav.com</td>\n",
       "      <td>33</td>\n",
       "    </tr>\n",
       "    <tr>\n",
       "      <th>1</th>\n",
       "      <td>Masum</td>\n",
       "      <td>Abdullah</td>\n",
       "      <td>abdullah_masum@gmail.com</td>\n",
       "      <td>55</td>\n",
       "    </tr>\n",
       "    <tr>\n",
       "      <th>2</th>\n",
       "      <td>Sayem</td>\n",
       "      <td>Ahmed</td>\n",
       "      <td>sayem_ahmed@email.com</td>\n",
       "      <td>63</td>\n",
       "    </tr>\n",
       "    <tr>\n",
       "      <th>3</th>\n",
       "      <td>Chris</td>\n",
       "      <td>Schafer</td>\n",
       "      <td>0</td>\n",
       "      <td>36</td>\n",
       "    </tr>\n",
       "    <tr>\n",
       "      <th>4</th>\n",
       "      <td>0</td>\n",
       "      <td>0</td>\n",
       "      <td>0</td>\n",
       "      <td>0</td>\n",
       "    </tr>\n",
       "    <tr>\n",
       "      <th>5</th>\n",
       "      <td>0</td>\n",
       "      <td>0</td>\n",
       "      <td>Anonymous@email.com</td>\n",
       "      <td>0</td>\n",
       "    </tr>\n",
       "    <tr>\n",
       "      <th>6</th>\n",
       "      <td>0</td>\n",
       "      <td>0</td>\n",
       "      <td>0</td>\n",
       "      <td>0</td>\n",
       "    </tr>\n",
       "  </tbody>\n",
       "</table>\n",
       "</div>"
      ],
      "text/plain": [
       "   first      last                     email age\n",
       "0  Rifat  Muhtasim  rifatmuhtasim@tavlav.com  33\n",
       "1  Masum  Abdullah  abdullah_masum@gmail.com  55\n",
       "2  Sayem     Ahmed     sayem_ahmed@email.com  63\n",
       "3  Chris   Schafer                         0  36\n",
       "4      0         0                         0   0\n",
       "5      0         0       Anonymous@email.com   0\n",
       "6      0         0                         0   0"
      ]
     },
     "execution_count": 33,
     "metadata": {},
     "output_type": "execute_result"
    }
   ],
   "source": [
    "## Check the NA value in the dataset\n",
    "df_people.isna()\n",
    "\n",
    "## Fillup the NAN Value\n",
    "df_people.fillna(0)"
   ]
  },
  {
   "cell_type": "code",
   "execution_count": 34,
   "id": "e22a9e69-0b9a-469d-81d9-9e2456d65810",
   "metadata": {},
   "outputs": [
    {
     "data": {
      "text/plain": [
       "first     object\n",
       "last      object\n",
       "email     object\n",
       "age      float64\n",
       "dtype: object"
      ]
     },
     "execution_count": 34,
     "metadata": {},
     "output_type": "execute_result"
    }
   ],
   "source": [
    "## Change the data type for age value\n",
    "\n",
    "df_people['age'] = df_people['age'].astype(float)\n",
    "df_people.dtypes # Show the data types"
   ]
  },
  {
   "cell_type": "markdown",
   "id": "f5abff70-1fc8-4d01-8965-5fe982cb237c",
   "metadata": {},
   "source": [
    "## For Stackoverflow Dataset"
   ]
  },
  {
   "cell_type": "code",
   "execution_count": 35,
   "id": "6c317702-6142-4fed-ad03-b623d582735c",
   "metadata": {},
   "outputs": [],
   "source": [
    "import pandas as pd\n"
   ]
  },
  {
   "cell_type": "code",
   "execution_count": 37,
   "id": "268039bd-ff76-4efe-ae61-0a6bb1294ca1",
   "metadata": {},
   "outputs": [],
   "source": [
    "na_vals = [\"NA\", \"MISSING\"]\n",
    "df = pd.read_csv(\"../../data/survey_results_public.csv\", index_col=\"Respondent\")\n",
    "schema_df = pd.read_csv(\"../../data/survey_results_schema.csv\", index_col=\"Column\")"
   ]
  },
  {
   "cell_type": "code",
   "execution_count": 41,
   "id": "305e2fa7-34b9-42a8-ace0-c613cd69472d",
   "metadata": {},
   "outputs": [
    {
     "data": {
      "text/plain": [
       "array(['4', nan, '3', '16', '13', '6', '8', '12', '2', '5', '17', '10',\n",
       "       '14', '35', '7', 'Less than 1 year', '30', '9', '26', '40', '19',\n",
       "       '15', '20', '28', '25', '1', '22', '11', '33', '50', '41', '18',\n",
       "       '34', '24', '23', '42', '27', '21', '36', '32', '39', '38', '31',\n",
       "       '37', 'More than 50 years', '29', '44', '45', '48', '46', '43',\n",
       "       '47', '49'], dtype=object)"
      ]
     },
     "execution_count": 41,
     "metadata": {},
     "output_type": "execute_result"
    }
   ],
   "source": [
    "## Show the Unique value \n",
    "df['YearsCode'].unique()"
   ]
  },
  {
   "cell_type": "code",
   "execution_count": 46,
   "id": "3b7b3b10-a1df-455c-ae73-2669c64d47e0",
   "metadata": {},
   "outputs": [
    {
     "data": {
      "text/plain": [
       "array(['4', nan, '3', '16', '13', '6', '8', '12', '2', '5', '17', '10',\n",
       "       '14', '35', '7', 0, '30', '9', '26', '40', '19', '15', '20', '28',\n",
       "       '25', '1', '22', '11', '33', '50', '41', '18', '34', '24', '23',\n",
       "       '42', '27', '21', '36', '32', '39', '38', '31', '37', 55, '29',\n",
       "       '44', '45', '48', '46', '43', '47', '49'], dtype=object)"
      ]
     },
     "execution_count": 46,
     "metadata": {},
     "output_type": "execute_result"
    }
   ],
   "source": [
    "df.replace('Less than 1 year', 0, inplace=True)\n",
    "df.replace('More than 50 years', 55, inplace=True)\n",
    "df['YearsCode'].unique()"
   ]
  },
  {
   "cell_type": "code",
   "execution_count": 47,
   "id": "d840c8be-0f3b-4742-bc70-62ccfe617e12",
   "metadata": {},
   "outputs": [],
   "source": [
    "df['YearsCode'] = df[\"YearsCode\"].astype(float)"
   ]
  },
  {
   "cell_type": "code",
   "execution_count": 48,
   "id": "83061df0-1473-49ca-a0b2-929e75951df9",
   "metadata": {},
   "outputs": [
    {
     "data": {
      "text/plain": [
       "11.66784552753076"
      ]
     },
     "execution_count": 48,
     "metadata": {},
     "output_type": "execute_result"
    }
   ],
   "source": [
    "df['YearsCode'].mean()"
   ]
  },
  {
   "cell_type": "code",
   "execution_count": null,
   "id": "62348dd1-5979-4317-b8e8-64e21b2efd91",
   "metadata": {},
   "outputs": [],
   "source": []
  }
 ],
 "metadata": {
  "kernelspec": {
   "display_name": "Python 3 (ipykernel)",
   "language": "python",
   "name": "python3"
  },
  "language_info": {
   "codemirror_mode": {
    "name": "ipython",
    "version": 3
   },
   "file_extension": ".py",
   "mimetype": "text/x-python",
   "name": "python",
   "nbconvert_exporter": "python",
   "pygments_lexer": "ipython3",
   "version": "3.11.2"
  }
 },
 "nbformat": 4,
 "nbformat_minor": 5
}
