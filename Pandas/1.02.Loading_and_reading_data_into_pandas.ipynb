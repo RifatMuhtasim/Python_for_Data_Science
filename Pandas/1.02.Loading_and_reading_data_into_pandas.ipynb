{
 "cells": [
  {
   "cell_type": "code",
   "execution_count": null,
   "id": "ec3fc779-c08d-4fb9-bb73-6850a2505900",
   "metadata": {},
   "outputs": [],
   "source": [
    "print(\"Hello World\")\n"
   ]
  },
  {
   "cell_type": "code",
   "execution_count": null,
   "id": "da2cf35a-7c48-43da-a932-3e31574acd7c",
   "metadata": {},
   "outputs": [],
   "source": [
    "import pandas as pd\n",
    "\n",
    "df = pd.read_csv(\"data/pokemon_data.csv\")\n",
    "\n",
    "print(df)"
   ]
  },
  {
   "cell_type": "code",
   "execution_count": null,
   "id": "b91d409b-406f-407f-a73d-c6afdba70b4b",
   "metadata": {},
   "outputs": [],
   "source": [
    "# Show the Top 3 Data \n",
    "print(df.head(3))"
   ]
  },
  {
   "cell_type": "code",
   "execution_count": null,
   "id": "84f4ae4c-42cb-42c5-9900-80de730def62",
   "metadata": {},
   "outputs": [],
   "source": [
    "# Show the Bottom 3 Data\n",
    "print(df.tail(3))"
   ]
  },
  {
   "cell_type": "code",
   "execution_count": null,
   "id": "d0555366-9040-4a1e-b78b-84c256c9d54c",
   "metadata": {},
   "outputs": [],
   "source": [
    "# Load from txt file\n",
    "\n",
    "df_txt = pd.read_csv('data/pokemon_data.txt', delimiter=\"\\t\")\n",
    "\n",
    "print(df_txt.head(5))"
   ]
  },
  {
   "cell_type": "code",
   "execution_count": null,
   "id": "d4752255-f03d-4725-b333-7476519ee2a0",
   "metadata": {},
   "outputs": [],
   "source": [
    "# Load data From Excel file \n",
    "\n",
    "df_xlsx = pd.read_excel('pokemon_data.xlsx')\n",
    "\n",
    "print(df_xlsx.head(3))"
   ]
  },
  {
   "cell_type": "code",
   "execution_count": null,
   "id": "e5dbe901-422f-4eb4-8717-d0e96ad5b748",
   "metadata": {},
   "outputs": [],
   "source": [
    "# Read Headers\n",
    "df.columns\n",
    "\n",
    "# Read Each Columns\n",
    "df['Name'][0:5]\n",
    "df[['Name', 'Attack', 'Defense']][0:10]\n",
    "\n",
    "# Read Each Row\n",
    "df.head(5)\n",
    "df.iloc[5]\n",
    "df.iloc[0:10]\n",
    "\n",
    "# Read a Specific Location (Row No, Column No)\n",
    "df.iloc[2,1]"
   ]
  },
  {
   "cell_type": "code",
   "execution_count": null,
   "id": "e7f359f6-b3e0-431c-9cb4-13a9a4a315ac",
   "metadata": {
    "scrolled": true
   },
   "outputs": [],
   "source": [
    "## Iterate through each row\n",
    "for index, row in df.iterrows():\n",
    "    print(index, row['Name'], row['Attack'], row['Defense'])"
   ]
  },
  {
   "cell_type": "code",
   "execution_count": null,
   "id": "21733226-9e05-4f2a-9f14-e804e9c7c5f0",
   "metadata": {},
   "outputs": [],
   "source": [
    "## Getting row based on Specific condition\n",
    "df.loc[df['Type 1'] == \"Fire\"]"
   ]
  },
  {
   "cell_type": "code",
   "execution_count": null,
   "id": "81cef63d-76f0-44bf-99fa-d6c882133e11",
   "metadata": {},
   "outputs": [],
   "source": []
  }
 ],
 "metadata": {
  "kernelspec": {
   "display_name": "Python 3 (ipykernel)",
   "language": "python",
   "name": "python3"
  },
  "language_info": {
   "codemirror_mode": {
    "name": "ipython",
    "version": 3
   },
   "file_extension": ".py",
   "mimetype": "text/x-python",
   "name": "python",
   "nbconvert_exporter": "python",
   "pygments_lexer": "ipython3",
   "version": "3.11.2"
  }
 },
 "nbformat": 4,
 "nbformat_minor": 5
}
