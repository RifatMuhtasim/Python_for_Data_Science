{
 "cells": [
  {
   "cell_type": "code",
   "execution_count": null,
   "id": "ff6548d5-136d-481e-b936-0824a4682e90",
   "metadata": {},
   "outputs": [],
   "source": [
    "import pandas as pd\n",
    "df = pd.read_csv(\"data/pokemon_data.csv\")\n",
    "df.head(5)"
   ]
  },
  {
   "cell_type": "code",
   "execution_count": null,
   "id": "008ec2b7-fe13-4629-8375-222938a18684",
   "metadata": {},
   "outputs": [],
   "source": [
    "## Show the Mean Value by using groupby function\n",
    "\n",
    "grouped = df.groupby(['Type 1'])\n",
    "group_mean = grouped['Attack'].mean()\n",
    "group_mean\n"
   ]
  },
  {
   "cell_type": "code",
   "execution_count": null,
   "id": "f1faa92d-0dea-47ad-b657-1ea63c75dc15",
   "metadata": {},
   "outputs": [],
   "source": [
    "## With an ascending order\n",
    "\n",
    "group_mean = grouped['Attack'].mean().sort_values(ascending=True)\n",
    "group_mean"
   ]
  },
  {
   "cell_type": "code",
   "execution_count": null,
   "id": "846cd41f-4717-41ff-b07c-d898e45aef01",
   "metadata": {},
   "outputs": [],
   "source": [
    "## Summation\n",
    "\n",
    "grouped.sum()\n",
    "df.groupby(['Type 1']).sum()"
   ]
  },
  {
   "cell_type": "code",
   "execution_count": null,
   "id": "66db67f0-6df1-4ad6-9a80-ef6f34ef5a1d",
   "metadata": {},
   "outputs": [],
   "source": [
    "## Count\n",
    "grouped.count()\n",
    "df.groupby(['Type 1']).count()\n",
    "df.groupby(['Type 1', 'Type 2']).count()"
   ]
  },
  {
   "cell_type": "code",
   "execution_count": null,
   "id": "dd8cfad2-4329-480b-b8d2-852ed28b32bb",
   "metadata": {},
   "outputs": [],
   "source": [
    "## Working with chunksize\n",
    "\n",
    "for i in pd.read_csv('data/pokemon_data.csv', chunksize=5):\n",
    "    print(i)"
   ]
  },
  {
   "cell_type": "code",
   "execution_count": null,
   "id": "6eea8679-d82c-4825-92e9-2e014b2bca02",
   "metadata": {},
   "outputs": [],
   "source": []
  }
 ],
 "metadata": {
  "kernelspec": {
   "display_name": "Python 3 (ipykernel)",
   "language": "python",
   "name": "python3"
  },
  "language_info": {
   "codemirror_mode": {
    "name": "ipython",
    "version": 3
   },
   "file_extension": ".py",
   "mimetype": "text/x-python",
   "name": "python",
   "nbconvert_exporter": "python",
   "pygments_lexer": "ipython3",
   "version": "3.11.2"
  }
 },
 "nbformat": 4,
 "nbformat_minor": 5
}
