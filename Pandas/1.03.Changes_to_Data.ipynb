{
 "cells": [
  {
   "cell_type": "code",
   "execution_count": null,
   "id": "86acd3b9-6557-46dd-9a6a-a4264bf4c4bb",
   "metadata": {},
   "outputs": [],
   "source": [
    "import pandas as pd\n",
    "df = pd.read_csv(\"data/pokemon_data.csv\")\n",
    "print(df.head(5))"
   ]
  },
  {
   "cell_type": "code",
   "execution_count": null,
   "id": "ae6a8712-ee77-4a09-9ed7-9ed4e5b292f2",
   "metadata": {},
   "outputs": [],
   "source": [
    "## Describe Data\n",
    "\n",
    "df.describe()"
   ]
  },
  {
   "cell_type": "code",
   "execution_count": null,
   "id": "f8ba7af1-6516-4c50-8b6a-ea7a2c1b8900",
   "metadata": {},
   "outputs": [],
   "source": [
    "## Sorting Values\n",
    "\n",
    "df.sort_values(\"Name\")\n",
    "\n",
    "df.sort_values(['Type 2', 'HP'], ascending=[1, 1])[0:50]"
   ]
  },
  {
   "cell_type": "code",
   "execution_count": null,
   "id": "ea7dfcb9-f4e4-4f42-b709-70a3bc6ac215",
   "metadata": {},
   "outputs": [],
   "source": [
    "## Changing Data\n",
    "\n",
    "df['total'] = df['HP'] + df['Attack'] + df['Defense']\n",
    "df\n",
    "\n",
    "## Save total all of the items Vertically\n",
    "df['total_all'] = df.iloc[:, 4:10].sum(axis=1)\n",
    "df"
   ]
  },
  {
   "cell_type": "code",
   "execution_count": null,
   "id": "9d304263-3600-4ce5-b2ba-e451c1bed6a1",
   "metadata": {},
   "outputs": [],
   "source": [
    "## Saving our Data\n",
    "\n",
    "df.to_csv(\"data/modified_pokemon_data.csv\")"
   ]
  },
  {
   "cell_type": "code",
   "execution_count": null,
   "id": "5b6c9162-60c5-45e4-ace6-6babad2cde69",
   "metadata": {},
   "outputs": [],
   "source": [
    "## Saving Data without add index value\n",
    "\n",
    "df.to_csv(\"data/modified_pokemon_data.csv\", index=False)\n",
    "\n",
    "## Saving the Txt file \n",
    "\n",
    "df.to_csv(\"data/modified_pokemon_data.txt\", index=False, sep=\"\\t\")\n",
    "\n"
   ]
  },
  {
   "cell_type": "code",
   "execution_count": null,
   "id": "997f87fc-feda-4b8d-b09c-2d8575811d6b",
   "metadata": {},
   "outputs": [],
   "source": [
    "\n"
   ]
  },
  {
   "cell_type": "code",
   "execution_count": null,
   "id": "5c3cc12e-3eb8-4651-bcf7-34c05637afcf",
   "metadata": {},
   "outputs": [],
   "source": []
  }
 ],
 "metadata": {
  "kernelspec": {
   "display_name": "Python 3 (ipykernel)",
   "language": "python",
   "name": "python3"
  },
  "language_info": {
   "codemirror_mode": {
    "name": "ipython",
    "version": 3
   },
   "file_extension": ".py",
   "mimetype": "text/x-python",
   "name": "python",
   "nbconvert_exporter": "python",
   "pygments_lexer": "ipython3",
   "version": "3.11.2"
  }
 },
 "nbformat": 4,
 "nbformat_minor": 5
}
