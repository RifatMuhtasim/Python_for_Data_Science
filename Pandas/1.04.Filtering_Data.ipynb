{
 "cells": [
  {
   "cell_type": "code",
   "execution_count": null,
   "id": "cadeff0f-ace3-44b9-a3c9-b17f43b43517",
   "metadata": {},
   "outputs": [],
   "source": [
    "import pandas as pd\n",
    "df = pd.read_csv(\"data/pokemon_data.csv\")\n",
    "df.head(5)"
   ]
  },
  {
   "cell_type": "code",
   "execution_count": null,
   "id": "8c486c2a-9d72-4f74-9806-4bd8bfeaf5ac",
   "metadata": {},
   "outputs": [],
   "source": [
    "## Filtering Data\n",
    "\n",
    "new_df = df.loc[(df['Type 1'] == \"Grass\") & (df['Type 2'] == \"Poison\") & (df['Generation'] == 1) ]\n",
    "\n",
    "new_df"
   ]
  },
  {
   "cell_type": "code",
   "execution_count": null,
   "id": "cc8a2624-fc43-4ab4-b299-e88fe06a2e67",
   "metadata": {},
   "outputs": [],
   "source": [
    "## Reset Index\n",
    "\n",
    "new_df.reset_index(drop=True, inplace=True)\n",
    "new_df"
   ]
  },
  {
   "cell_type": "code",
   "execution_count": null,
   "id": "9ea2cf2a-ae97-41fa-be28-fb464e8edbd3",
   "metadata": {},
   "outputs": [],
   "source": [
    "## Regex Filtering\n",
    "\n",
    "df.loc[df['Name'].str.contains('Mega')]\n",
    "\n",
    "df.loc[df['Type 1'].str.contains('Fire|Grass', regex=True)]"
   ]
  },
  {
   "cell_type": "code",
   "execution_count": null,
   "id": "cfc7e08f-84ce-499d-9476-1f33b219904f",
   "metadata": {},
   "outputs": [],
   "source": [
    "df.loc[df['Name'].str.contains('pi[a-z]*', regex=True)]"
   ]
  },
  {
   "cell_type": "code",
   "execution_count": null,
   "id": "dce787c7-7472-475a-ae92-f28c2ee68ba4",
   "metadata": {},
   "outputs": [],
   "source": [
    "## Conditional Changes\n",
    "\n",
    "df.loc[df['Type 1'] == 'Fire', 'Type 1'] = \"Firex\"\n",
    "df"
   ]
  },
  {
   "cell_type": "code",
   "execution_count": null,
   "id": "076bb59c-a192-4783-bde1-206ad340dcf8",
   "metadata": {},
   "outputs": [],
   "source": [
    "df.loc[df['HP'] > 79, ['Generation', 'Legendary']] = \"Test Value\"\n",
    "df"
   ]
  },
  {
   "cell_type": "code",
   "execution_count": null,
   "id": "da7ffff5-cb80-4b9a-869b-8f91e7caa721",
   "metadata": {},
   "outputs": [],
   "source": [
    "df.loc[df['HP'] > 79, ['Generation', 'Legendary']] = [100, \"Test\"]\n",
    "df"
   ]
  },
  {
   "cell_type": "code",
   "execution_count": null,
   "id": "394f7b6a-d778-446c-8ecc-b05f480e527a",
   "metadata": {},
   "outputs": [],
   "source": []
  }
 ],
 "metadata": {
  "kernelspec": {
   "display_name": "Python 3 (ipykernel)",
   "language": "python",
   "name": "python3"
  },
  "language_info": {
   "codemirror_mode": {
    "name": "ipython",
    "version": 3
   },
   "file_extension": ".py",
   "mimetype": "text/x-python",
   "name": "python",
   "nbconvert_exporter": "python",
   "pygments_lexer": "ipython3",
   "version": "3.11.2"
  }
 },
 "nbformat": 4,
 "nbformat_minor": 5
}
